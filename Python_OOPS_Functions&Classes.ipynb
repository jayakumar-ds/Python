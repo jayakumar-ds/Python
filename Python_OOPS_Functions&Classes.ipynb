{
 "cells": [
  {
   "cell_type": "markdown",
   "id": "ea79e379-f968-4f55-9301-9e2e28732bf8",
   "metadata": {},
   "source": [
    "## OOPS Concepts\n",
    "## **Function**"
   ]
  },
  {
   "cell_type": "code",
   "execution_count": null,
   "id": "9b4c866c-88a2-4dbf-abde-8406e2432391",
   "metadata": {},
   "outputs": [],
   "source": [
    "#without return statement\n",
    "lists =[23,45,67,34,89]\n",
    "\n",
    "def AgeCatogery(): #Creating a function with some code\n",
    "    for age in lists:\n",
    "        if(age<18):\n",
    "            print(\"Child\")\n",
    "        elif(age<35):\n",
    "            print(\"Adult\")\n",
    "        elif(age<59):\n",
    "            print(\"Citizen\")\n",
    "        else:\n",
    "            print(\"Senior Citizen\")\n",
    "#Without return statement because we used print statement."
   ]
  },
  {
   "cell_type": "code",
   "execution_count": null,
   "id": "89d7be49-b7b7-403e-bd3e-1198e24d08cb",
   "metadata": {},
   "outputs": [],
   "source": [
    "AgeCatogery() # Calling the function"
   ]
  },
  {
   "cell_type": "code",
   "execution_count": null,
   "id": "696c846e-4eae-4199-a9f9-fecfcfd91bd7",
   "metadata": {},
   "outputs": [],
   "source": [
    "# with return statement:\n",
    "age = int(input(\"Enter the age\"))"
   ]
  },
  {
   "cell_type": "code",
   "execution_count": 3,
   "id": "08805df2-2ad6-42d4-87e8-0654c369b7d1",
   "metadata": {},
   "outputs": [],
   "source": [
    "def AgeCatogery(): #Creating a function with some code\n",
    "        if(age<18):\n",
    "            cate = \"children\"\n",
    "        elif(age<35):\n",
    "            print(\"Adult\")\n",
    "            cate = \"Adult\"\n",
    "        elif(age<59):\n",
    "            print(\"Citizen\")\n",
    "            cate = \"Citizen\"\n",
    "        else:\n",
    "            print(\"Senior Citizen\")\n",
    "            cate = \"Senior Citizen\"\n",
    "        return cate"
   ]
  },
  {
   "cell_type": "code",
   "execution_count": 5,
   "id": "a6ab97f9-469a-46d1-87a2-66efc6ec0d76",
   "metadata": {},
   "outputs": [
    {
     "name": "stdout",
     "output_type": "stream",
     "text": [
      "Adult\n"
     ]
    },
    {
     "data": {
      "text/plain": [
       "'Adult'"
      ]
     },
     "execution_count": 5,
     "metadata": {},
     "output_type": "execute_result"
    }
   ],
   "source": [
    "AgeCatogery()"
   ]
  },
  {
   "cell_type": "code",
   "execution_count": 7,
   "id": "90ca3514-6eb8-40ae-a79a-0968e4149f82",
   "metadata": {},
   "outputs": [
    {
     "name": "stdin",
     "output_type": "stream",
     "text": [
      "Enter the age 22\n"
     ]
    },
    {
     "name": "stdout",
     "output_type": "stream",
     "text": [
      "Adult\n"
     ]
    }
   ],
   "source": [
    "age = int(input(\"Enter the age\"))\n",
    "ageCate=AgeCatogery() #saving the output through new variable 'ageCate'"
   ]
  },
  {
   "cell_type": "code",
   "execution_count": 9,
   "id": "e538ba8a-7aef-41d5-8601-96f861edc1b4",
   "metadata": {},
   "outputs": [
    {
     "name": "stdout",
     "output_type": "stream",
     "text": [
      "Adult\n"
     ]
    }
   ],
   "source": [
    "print(ageCate) # printing the new saved variable"
   ]
  },
  {
   "cell_type": "markdown",
   "id": "5b005303-34b5-43b9-89cc-f1edb1a2fbae",
   "metadata": {},
   "source": [
    "* Without return statement\n",
    "* output will not be able to save on memory **(eg.ageCate=AgeCatogery())**\n",
    "* **ageCate** gives you None result\n",
    "* simply we can call the function and print the output"
   ]
  },
  {
   "cell_type": "code",
   "execution_count": 11,
   "id": "5701cb4e-5aa7-4732-8f78-df01b59e2db0",
   "metadata": {},
   "outputs": [],
   "source": [
    "# Example for above explaination:\n",
    "\n",
    "def AgeCatogeryNoR(): #Creating a function with some code\n",
    "        if(age<18):\n",
    "            cate = \"children\"\n",
    "        elif(age<35):\n",
    "            print(\"Adult\")\n",
    "            cate = \"Adult\"\n",
    "        elif(age<59):\n",
    "            print(\"Citizen\")\n",
    "            cate = \"Citizen\"\n",
    "        else:\n",
    "            print(\"Senior Citizen\")\n",
    "            cate = \"Senior Citizen\"\n",
    "        #return cate"
   ]
  },
  {
   "cell_type": "code",
   "execution_count": 13,
   "id": "e6071001-0282-4ad4-99a6-f7b873fdb5d4",
   "metadata": {},
   "outputs": [
    {
     "name": "stdin",
     "output_type": "stream",
     "text": [
      "Enter the age 55\n"
     ]
    },
    {
     "name": "stdout",
     "output_type": "stream",
     "text": [
      "Citizen\n"
     ]
    }
   ],
   "source": [
    "age = int(input(\"Enter the age\"))\n",
    "agecateNoR = AgeCatogeryNoR() # we can get the output but it will not save anyware"
   ]
  },
  {
   "cell_type": "code",
   "execution_count": 15,
   "id": "14dc887c-0405-44ea-a54d-166c0c889602",
   "metadata": {},
   "outputs": [
    {
     "name": "stdout",
     "output_type": "stream",
     "text": [
      "None\n"
     ]
    }
   ],
   "source": [
    "print(agecateNoR)"
   ]
  },
  {
   "cell_type": "markdown",
   "id": "6f931082-e61f-495d-addb-b330ba70d56b",
   "metadata": {},
   "source": [
    "**26.Function - 4**"
   ]
  },
  {
   "cell_type": "code",
   "execution_count": 44,
   "id": "00bc2cb6-2704-4087-8442-96138fd0a944",
   "metadata": {},
   "outputs": [],
   "source": [
    "# Find Odd or Even Number using Functions:\n",
    "\n",
    "def oddEven():\n",
    "    num5 = int(input(\"Enter the number\"))\n",
    "    if(num5%2==0):\n",
    "        message = 'Even Number'\n",
    "    else:\n",
    "        message = 'Odd Number'\n",
    "    return message"
   ]
  },
  {
   "cell_type": "code",
   "execution_count": 46,
   "id": "34607d5a-6179-4b98-861f-d6ed2b811a8d",
   "metadata": {},
   "outputs": [
    {
     "name": "stdin",
     "output_type": "stream",
     "text": [
      "Enter the number 698\n"
     ]
    }
   ],
   "source": [
    "msg = oddEven() # storing the output into 'msg' - variable"
   ]
  },
  {
   "cell_type": "code",
   "execution_count": 50,
   "id": "3abf3e8a-00cd-4e73-a5d0-16706bfc6c89",
   "metadata": {},
   "outputs": [
    {
     "name": "stdout",
     "output_type": "stream",
     "text": [
      "The given number is Even\n"
     ]
    }
   ],
   "source": [
    "#using that 'msg' variable we can check another condition:\n",
    "if(msg==\"Even Number\"):\n",
    "    print(\"The given number is Even\")\n",
    "\n",
    "else:\n",
    "    print(\"The given is Odd number\")"
   ]
  },
  {
   "cell_type": "markdown",
   "id": "fb8d214f-0b5a-4f90-9ce3-e816130b6dad",
   "metadata": {},
   "source": [
    "**Another Example with Functions concept**\n",
    "* Using BMI Assignment"
   ]
  },
  {
   "cell_type": "code",
   "execution_count": 53,
   "id": "eceed988-b21e-4a2f-b50f-6fda30d86e9e",
   "metadata": {},
   "outputs": [],
   "source": [
    "\n",
    "def BMI():\n",
    "    BMI = float(input(\"Enter the BMI Index:\"))\n",
    "    if(BMI<=18.5):\n",
    "        print(\"Underweight\")\n",
    "        msg1 = \"Underweight\"\n",
    "    elif(BMI<=24.9):\n",
    "        print(\"Normal\")\n",
    "        msg1 = \"Normal\"\n",
    "    elif(BMI<=29.9):\n",
    "        print(\"OverWeight\")\n",
    "        msg1 = \"OverWeight\"\n",
    "    else:\n",
    "        print(\"Obesity\")\n",
    "        msg1 = \"Obesity\"\n",
    "    return msg1"
   ]
  },
  {
   "cell_type": "code",
   "execution_count": 55,
   "id": "8f8265d4-d14c-498e-8aa9-c2d9c379ed78",
   "metadata": {},
   "outputs": [
    {
     "name": "stdin",
     "output_type": "stream",
     "text": [
      "Enter the BMI Index: 21\n"
     ]
    },
    {
     "name": "stdout",
     "output_type": "stream",
     "text": [
      "Normal\n"
     ]
    }
   ],
   "source": [
    "bmi = BMI()"
   ]
  },
  {
   "cell_type": "markdown",
   "id": "f4f74e3b-1546-4a09-9013-3ff67927d8b8",
   "metadata": {},
   "source": [
    "**Passing parameter/Arguments** through functions"
   ]
  },
  {
   "cell_type": "code",
   "execution_count": 68,
   "id": "a02209fa-341e-4f88-b68d-ba93c222f8e7",
   "metadata": {},
   "outputs": [],
   "source": [
    "def addition(num1,num2): #passing argument or parameters:\n",
    "    add=num1+num2\n",
    "    return add"
   ]
  },
  {
   "cell_type": "code",
   "execution_count": 70,
   "id": "00776178-7c26-44c7-8db6-103ab36f00cb",
   "metadata": {},
   "outputs": [
    {
     "data": {
      "text/plain": [
       "12"
      ]
     },
     "execution_count": 70,
     "metadata": {},
     "output_type": "execute_result"
    }
   ],
   "source": [
    "addition(4,8)"
   ]
  },
  {
   "cell_type": "code",
   "execution_count": 79,
   "id": "69d80348-78bc-41b1-9afb-561766cbf7e0",
   "metadata": {},
   "outputs": [],
   "source": [
    "def substraction(num1,num2): #passing argument or parameters:\n",
    "    sub=num1-num2\n",
    "    return sub"
   ]
  },
  {
   "cell_type": "code",
   "execution_count": 81,
   "id": "b78f46d5-9b4b-4109-84d1-03652757950b",
   "metadata": {},
   "outputs": [
    {
     "data": {
      "text/plain": [
       "-4"
      ]
     },
     "execution_count": 81,
     "metadata": {},
     "output_type": "execute_result"
    }
   ],
   "source": [
    "substraction(8,12)"
   ]
  },
  {
   "cell_type": "markdown",
   "id": "475dfeda-6db0-4a74-8782-ad2744afca12",
   "metadata": {},
   "source": [
    "## Class Concept"
   ]
  },
  {
   "cell_type": "code",
   "execution_count": 113,
   "id": "06329f71-588d-4577-a905-dd93c9762f94",
   "metadata": {},
   "outputs": [],
   "source": [
    "class multipleFunctions():\n",
    "    def oddEven():\n",
    "        num5 = int(input(\"Enter the number\"))\n",
    "        if(num5%2==0):\n",
    "            message = 'Even Number'\n",
    "        else:\n",
    "            message = 'Odd Number'\n",
    "        return message\n",
    "    def BMI():\n",
    "         BMI = float(input(\"Enter the BMI Index:\"))\n",
    "         if(BMI<=18.5):\n",
    "             print(\"Underweight\")\n",
    "             msg1 = \"Underweight\"\n",
    "         elif(BMI<=24.9):\n",
    "             print(\"Normal\")\n",
    "             msg1 = \"Normal\"\n",
    "         elif(BMI<=29.9):\n",
    "             print(\"OverWeight\")\n",
    "             msg1 = \"OverWeight\"\n",
    "         else:\n",
    "             print(\"Obesity\")\n",
    "             msg1 = \"Obesity\"\n",
    "         return msg1     \n",
    "           \n",
    "         "
   ]
  },
  {
   "cell_type": "code",
   "execution_count": 115,
   "id": "6305502b-bb76-4857-a6ce-57673a18e935",
   "metadata": {},
   "outputs": [
    {
     "name": "stdin",
     "output_type": "stream",
     "text": [
      "Enter the number 25\n"
     ]
    },
    {
     "data": {
      "text/plain": [
       "'Odd Number'"
      ]
     },
     "execution_count": 115,
     "metadata": {},
     "output_type": "execute_result"
    }
   ],
   "source": [
    "multipleFunctions.oddEven()"
   ]
  },
  {
   "cell_type": "code",
   "execution_count": 117,
   "id": "3ae219c1-06a0-49d6-88f5-259e6d5aa547",
   "metadata": {},
   "outputs": [
    {
     "name": "stdin",
     "output_type": "stream",
     "text": [
      "Enter the BMI Index: 28\n"
     ]
    },
    {
     "name": "stdout",
     "output_type": "stream",
     "text": [
      "OverWeight\n"
     ]
    },
    {
     "data": {
      "text/plain": [
       "'OverWeight'"
      ]
     },
     "execution_count": 117,
     "metadata": {},
     "output_type": "execute_result"
    }
   ],
   "source": [
    "multipleFunctions.BMI()"
   ]
  },
  {
   "cell_type": "code",
   "execution_count": null,
   "id": "daca7b3d-33f8-40ef-abf7-b6278254d73d",
   "metadata": {},
   "outputs": [],
   "source": []
  },
  {
   "cell_type": "code",
   "execution_count": null,
   "id": "c262c1b2-e807-4442-98d3-a32b6e92b409",
   "metadata": {},
   "outputs": [],
   "source": []
  },
  {
   "cell_type": "code",
   "execution_count": null,
   "id": "5b240a84-c970-4654-8e77-7dee4bb50537",
   "metadata": {},
   "outputs": [],
   "source": []
  },
  {
   "cell_type": "code",
   "execution_count": null,
   "id": "b476f978-dbe1-45ab-b063-0ccf6d0cd08b",
   "metadata": {},
   "outputs": [],
   "source": []
  },
  {
   "cell_type": "code",
   "execution_count": null,
   "id": "afe665a9-a171-447e-bac2-cb3e843587bf",
   "metadata": {},
   "outputs": [],
   "source": []
  },
  {
   "cell_type": "code",
   "execution_count": null,
   "id": "9e7c1b3d-9a59-4eab-8c14-41b16d62bf53",
   "metadata": {},
   "outputs": [],
   "source": []
  },
  {
   "cell_type": "code",
   "execution_count": null,
   "id": "28bb7b2d-4636-4890-8ca9-9d628005f75b",
   "metadata": {},
   "outputs": [],
   "source": []
  },
  {
   "cell_type": "code",
   "execution_count": null,
   "id": "ae04268e-53aa-41a9-8bbb-8b3f81afa0de",
   "metadata": {},
   "outputs": [],
   "source": []
  },
  {
   "cell_type": "code",
   "execution_count": null,
   "id": "9d0c2277-e2ec-4f25-b7a1-e5cd8783e060",
   "metadata": {},
   "outputs": [],
   "source": []
  },
  {
   "cell_type": "code",
   "execution_count": null,
   "id": "c8d72740-2416-48c2-8f71-fcc85e98127f",
   "metadata": {},
   "outputs": [],
   "source": []
  },
  {
   "cell_type": "code",
   "execution_count": null,
   "id": "27373414-c624-4d77-97a1-29dcfbc7951f",
   "metadata": {},
   "outputs": [],
   "source": []
  },
  {
   "cell_type": "code",
   "execution_count": null,
   "id": "2549ff27-0bb9-45d0-a7e8-7943b3dece70",
   "metadata": {},
   "outputs": [],
   "source": []
  },
  {
   "cell_type": "code",
   "execution_count": null,
   "id": "44f21218-ce0c-46f7-ac0d-401305ede65f",
   "metadata": {},
   "outputs": [],
   "source": []
  },
  {
   "cell_type": "code",
   "execution_count": null,
   "id": "185fbf32-b94c-4a02-802b-5f391ce96c79",
   "metadata": {},
   "outputs": [],
   "source": []
  },
  {
   "cell_type": "code",
   "execution_count": null,
   "id": "05b6f3a7-c7f8-43dc-b974-d8c981b3935e",
   "metadata": {},
   "outputs": [],
   "source": []
  },
  {
   "cell_type": "code",
   "execution_count": null,
   "id": "e84bfe07-1730-49d2-981c-3a5a02ab315a",
   "metadata": {},
   "outputs": [],
   "source": []
  },
  {
   "cell_type": "code",
   "execution_count": null,
   "id": "9694cc9c-2394-4be4-b666-e3361b33b70f",
   "metadata": {},
   "outputs": [],
   "source": []
  },
  {
   "cell_type": "code",
   "execution_count": null,
   "id": "da755a34-5a05-4545-aeec-8bccdc3444b0",
   "metadata": {},
   "outputs": [],
   "source": []
  },
  {
   "cell_type": "code",
   "execution_count": null,
   "id": "57908223-ccec-41b7-a694-bd460198869d",
   "metadata": {},
   "outputs": [],
   "source": []
  },
  {
   "cell_type": "code",
   "execution_count": null,
   "id": "958464c1-8240-45df-b9c4-8a5f08c54da0",
   "metadata": {},
   "outputs": [],
   "source": []
  },
  {
   "cell_type": "code",
   "execution_count": null,
   "id": "4a25f68b-841a-478f-a39a-fede8f459a19",
   "metadata": {},
   "outputs": [],
   "source": []
  },
  {
   "cell_type": "code",
   "execution_count": null,
   "id": "28041688-c48b-4df0-b821-641a14a125fa",
   "metadata": {},
   "outputs": [],
   "source": []
  },
  {
   "cell_type": "code",
   "execution_count": null,
   "id": "7bf8cfc3-4f47-4ce8-8418-44d7244b2825",
   "metadata": {},
   "outputs": [],
   "source": []
  },
  {
   "cell_type": "code",
   "execution_count": null,
   "id": "c853e4be-86c8-47ac-9f29-80fd101799d5",
   "metadata": {},
   "outputs": [],
   "source": []
  },
  {
   "cell_type": "code",
   "execution_count": null,
   "id": "ac6c3547-a06d-4012-8fb0-60ca0c8cd312",
   "metadata": {},
   "outputs": [],
   "source": []
  },
  {
   "cell_type": "code",
   "execution_count": null,
   "id": "ec2101f4-9058-4940-bd43-e6638ddb76de",
   "metadata": {},
   "outputs": [],
   "source": []
  },
  {
   "cell_type": "code",
   "execution_count": null,
   "id": "6ad2c24b-ee6d-4518-9770-35d68fb20c93",
   "metadata": {},
   "outputs": [],
   "source": []
  },
  {
   "cell_type": "code",
   "execution_count": null,
   "id": "ac90b1ed-dc5f-4890-8bbf-6e4d6edc5139",
   "metadata": {},
   "outputs": [],
   "source": []
  },
  {
   "cell_type": "code",
   "execution_count": null,
   "id": "0ecd8fd9-bb37-48f2-ba1a-5ed5c150e8ac",
   "metadata": {},
   "outputs": [],
   "source": []
  },
  {
   "cell_type": "code",
   "execution_count": null,
   "id": "70550410-5a74-4c89-a1dd-d27e466fc3de",
   "metadata": {},
   "outputs": [],
   "source": []
  }
 ],
 "metadata": {
  "kernelspec": {
   "display_name": "Python 3 (ipykernel)",
   "language": "python",
   "name": "python3"
  },
  "language_info": {
   "codemirror_mode": {
    "name": "ipython",
    "version": 3
   },
   "file_extension": ".py",
   "mimetype": "text/x-python",
   "name": "python",
   "nbconvert_exporter": "python",
   "pygments_lexer": "ipython3",
   "version": "3.12.4"
  }
 },
 "nbformat": 4,
 "nbformat_minor": 5
}
