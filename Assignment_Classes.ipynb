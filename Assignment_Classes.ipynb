{
 "cells": [
  {
   "cell_type": "markdown",
   "id": "f3eb0721-0ff0-467e-8dca-f7a4d178c7e5",
   "metadata": {},
   "source": [
    "# Create a class and function, and list out the items in the list\n"
   ]
  },
  {
   "cell_type": "code",
   "execution_count": 14,
   "id": "3cd05dcd-0436-4c12-a254-e904f54662b0",
   "metadata": {},
   "outputs": [],
   "source": [
    "class SubfieldsInAI():    \n",
    "    def subfields():\n",
    "        lists = ['Machine Learning','Neural Networks','Vision','Robotics','Speech Processing','Natural Language Processing']\n",
    "        print(\"Sub-fields in AI are: \")\n",
    "        for msg in lists:        \n",
    "            print(msg)"
   ]
  },
  {
   "cell_type": "code",
   "execution_count": 16,
   "id": "ebaf9fbd-f8ef-45de-b86e-d70d98bf2f56",
   "metadata": {},
   "outputs": [
    {
     "name": "stdout",
     "output_type": "stream",
     "text": [
      "Sub-fields in AI are: \n",
      "Machine Learning\n",
      "Neural Networks\n",
      "Vision\n",
      "Robotics\n",
      "Speech Processing\n",
      "Natural Language Processing\n"
     ]
    }
   ],
   "source": [
    "SubfieldsInAI.subfields()"
   ]
  },
  {
   "cell_type": "markdown",
   "id": "0b8d00e9-2f09-43ba-9b0a-225b812a9d71",
   "metadata": {},
   "source": [
    "* Create a class and function that checks whether the given number is Odd or Even"
   ]
  },
  {
   "cell_type": "code",
   "execution_count": 23,
   "id": "5dbee8a7-1de1-4eb7-8645-1d61de410a5a",
   "metadata": {},
   "outputs": [],
   "source": [
    "class OddEven():\n",
    "    def oddEven():\n",
    "        num5 = int(input(\"Enter the number : \"))\n",
    "        if(num5%2==0):\n",
    "            print(num5, \"is Even Number\")\n",
    "        else:\n",
    "            print(num5, \"is Odd Number\")"
   ]
  },
  {
   "cell_type": "code",
   "execution_count": 25,
   "id": "0a11e387-bf9c-43a6-b9ed-d9288be4f8e1",
   "metadata": {},
   "outputs": [
    {
     "name": "stdin",
     "output_type": "stream",
     "text": [
      "Enter the number :  54\n"
     ]
    },
    {
     "name": "stdout",
     "output_type": "stream",
     "text": [
      "54 is Even Number\n"
     ]
    }
   ],
   "source": [
    "OddEven.oddEven()"
   ]
  },
  {
   "cell_type": "markdown",
   "id": "6e1f82b5-be56-4d11-9a06-b4f3e41437b6",
   "metadata": {},
   "source": [
    "* Create a function that tells elegibility of marriage for male and female according to thei\n",
    "r age limit like 21 for male and 18 for female"
   ]
  },
  {
   "cell_type": "code",
   "execution_count": 28,
   "id": "90aaf64d-ddad-463e-a367-6311099d3ec5",
   "metadata": {},
   "outputs": [],
   "source": [
    "class ElegiblityForMarriage():\n",
    "    def eligible():\n",
    "        gender = input(\"Your Gender :\")\n",
    "        age = int(input(\"Your Age :\"))\n",
    "        if(gender=='male' and age>=21):\n",
    "            msg = 'Your ELIGIBLE'\n",
    "        elif(gender=='female' and age>=18):\n",
    "            msg = 'Your ELIGIBLE'\n",
    "        else:\n",
    "            msg = 'NOT ELIGIBLE'\n",
    "        return msg"
   ]
  },
  {
   "cell_type": "code",
   "execution_count": 32,
   "id": "fa1400b0-3718-4fcd-bf17-e41901787d6c",
   "metadata": {},
   "outputs": [
    {
     "name": "stdin",
     "output_type": "stream",
     "text": [
      "Your Gender : male\n",
      "Your Age : 20\n"
     ]
    },
    {
     "data": {
      "text/plain": [
       "'NOT ELIGIBLE'"
      ]
     },
     "execution_count": 32,
     "metadata": {},
     "output_type": "execute_result"
    }
   ],
   "source": [
    "ElegiblityForMarriage.eligible()"
   ]
  },
  {
   "cell_type": "markdown",
   "id": "5aea5e6d-136a-4ab0-81aa-6602344fe14a",
   "metadata": {},
   "source": [
    "* calculate the percentage of your 10th mark"
   ]
  },
  {
   "cell_type": "code",
   "execution_count": 35,
   "id": "e1efd529-29fa-49e7-93ab-80fa61c3ba5f",
   "metadata": {},
   "outputs": [],
   "source": [
    "class FindPercent():\n",
    "    def find_Total_percentage(s1,s2,s3,s4,s5):\n",
    "        total = s1+s2+s3+s4+s5\n",
    "        percentage = total/500*100\n",
    "    \n",
    "        print(\"subject1= \",s1)\n",
    "        print(\"subject2= \",s2)\n",
    "        print(\"subject3= \",s3)\n",
    "        print(\"subject4= \",s4)\n",
    "        print(\"subject5= \",s5)\n",
    "    \n",
    "        print(\"Total : \",total)\n",
    "        print(\"Percentage : \",percentage)"
   ]
  },
  {
   "cell_type": "code",
   "execution_count": 37,
   "id": "7cefd0ec-5916-4362-a7b2-15daa9a07a7c",
   "metadata": {},
   "outputs": [
    {
     "name": "stdout",
     "output_type": "stream",
     "text": [
      "subject1=  98\n",
      "subject2=  87\n",
      "subject3=  95\n",
      "subject4=  95\n",
      "subject5=  93\n",
      "Total :  468\n",
      "Percentage :  93.60000000000001\n"
     ]
    }
   ],
   "source": [
    "FindPercent.find_Total_percentage(98,87,95,95,93)"
   ]
  },
  {
   "cell_type": "markdown",
   "id": "241b7196-a6e7-4570-86b2-d498cda89235",
   "metadata": {},
   "source": [
    "* print area and perimeter of triangle using class and functions\n"
   ]
  },
  {
   "cell_type": "code",
   "execution_count": 42,
   "id": "33fc7319-d1d9-4a46-86d1-cd3e9cceeb91",
   "metadata": {},
   "outputs": [],
   "source": [
    "class Traingle():\n",
    "    def triangle(h1,h2,bh):\n",
    "        height=int(input(\"Height :\"))\n",
    "        weight=int(input(\"Weight :\"))\n",
    "        af = (height*weight)/2\n",
    "        print(\"Area of Triangle: \",af)\n",
    "        pf = h1+h2+bh\n",
    "        print(\"Height1:\",h1)\n",
    "        print(\"Height2:\",h2)\n",
    "        print(\"Breadth:\",bh)\n",
    "        print(\"Perimeter of Traingle: \",pf)"
   ]
  },
  {
   "cell_type": "code",
   "execution_count": 44,
   "id": "efc694dd-58d2-431e-a173-a859cf6580ca",
   "metadata": {},
   "outputs": [
    {
     "name": "stdin",
     "output_type": "stream",
     "text": [
      "Height : 32\n",
      "Weight : 34\n"
     ]
    },
    {
     "name": "stdout",
     "output_type": "stream",
     "text": [
      "Area of Triangle:  544.0\n",
      "Height1: 2\n",
      "Height2: 4\n",
      "Breadth: 4\n",
      "Perimeter of Traingle:  10\n"
     ]
    }
   ],
   "source": [
    "Traingle.triangle(2,4,4)"
   ]
  },
  {
   "cell_type": "code",
   "execution_count": null,
   "id": "b1e4ef74-9a69-4bf2-9116-0163c545a1a4",
   "metadata": {},
   "outputs": [],
   "source": []
  }
 ],
 "metadata": {
  "kernelspec": {
   "display_name": "Python 3 (ipykernel)",
   "language": "python",
   "name": "python3"
  },
  "language_info": {
   "codemirror_mode": {
    "name": "ipython",
    "version": 3
   },
   "file_extension": ".py",
   "mimetype": "text/x-python",
   "name": "python",
   "nbconvert_exporter": "python",
   "pygments_lexer": "ipython3",
   "version": "3.12.4"
  }
 },
 "nbformat": 4,
 "nbformat_minor": 5
}
