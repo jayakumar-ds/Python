{
 "cells": [
  {
   "cell_type": "markdown",
   "id": "96878725-b6fc-4f91-b4be-3be7ac33e027",
   "metadata": {},
   "source": [
    "## Python Basics:\n",
    "### Coding and error Handling"
   ]
  },
  {
   "cell_type": "code",
   "execution_count": null,
   "id": "bca454ea-1e59-4092-9e45-eaecd74df2ab",
   "metadata": {},
   "outputs": [],
   "source": []
  },
  {
   "cell_type": "code",
   "execution_count": 2,
   "id": "020b339d-e40c-4c90-bc3b-3f5f42f03642",
   "metadata": {},
   "outputs": [],
   "source": [
    "cart_items = ['laptop','mouse','keyboard','moniter']\n",
    "item_prices = {'laptop':1000,'mouse':20,'keyboard':50,'moniter':300}"
   ]
  },
  {
   "cell_type": "code",
   "execution_count": 6,
   "id": "c59ac4a6-521e-4bef-ab54-49a336cd4baa",
   "metadata": {},
   "outputs": [
    {
     "name": "stdout",
     "output_type": "stream",
     "text": [
      "Total cost  : 1370\n"
     ]
    }
   ],
   "source": [
    "#Calculate the total cost:\n",
    "total_cost = sum(item_prices[item] for item in cart_items)\n",
    "print(\"Total cost  :\",total_cost)"
   ]
  },
  {
   "cell_type": "code",
   "execution_count": 13,
   "id": "b9819bbb-a142-4e14-8a29-45fd8c61a654",
   "metadata": {},
   "outputs": [
    {
     "name": "stdout",
     "output_type": "stream",
     "text": [
      "2\n"
     ]
    }
   ],
   "source": [
    "count = sum(1 for item in cart_items if item_prices[item] > 100)\n",
    "print(count)"
   ]
  },
  {
   "cell_type": "code",
   "execution_count": 15,
   "id": "e858e8de-0011-4bcb-bc48-d8887f81c6f1",
   "metadata": {},
   "outputs": [
    {
     "name": "stdout",
     "output_type": "stream",
     "text": [
      "Items > ₹100: ['laptop', 'moniter']\n"
     ]
    }
   ],
   "source": [
    "items_above_100 = [item for item in item_prices if item_prices[item] > 100]\n",
    "print(\"Items > ₹100:\", items_above_100)\n"
   ]
  },
  {
   "cell_type": "code",
   "execution_count": null,
   "id": "8f406099-d9ba-494b-82b5-d102a6d4d706",
   "metadata": {},
   "outputs": [],
   "source": []
  }
 ],
 "metadata": {
  "kernelspec": {
   "display_name": "Python 3 (ipykernel)",
   "language": "python",
   "name": "python3"
  },
  "language_info": {
   "codemirror_mode": {
    "name": "ipython",
    "version": 3
   },
   "file_extension": ".py",
   "mimetype": "text/x-python",
   "name": "python",
   "nbconvert_exporter": "python",
   "pygments_lexer": "ipython3",
   "version": "3.12.4"
  }
 },
 "nbformat": 4,
 "nbformat_minor": 5
}
