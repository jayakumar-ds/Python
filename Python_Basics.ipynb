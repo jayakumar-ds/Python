{
 "cells": [
  {
   "cell_type": "markdown",
   "id": "96878725-b6fc-4f91-b4be-3be7ac33e027",
   "metadata": {},
   "source": [
    "## Python Basics:"
   ]
  },
  {
   "cell_type": "markdown",
   "id": "927178ea-8605-45b1-b96a-55b5e32bd300",
   "metadata": {},
   "source": [
    "### Print, Assignment Operators and Variables:"
   ]
  },
  {
   "cell_type": "code",
   "execution_count": 5,
   "id": "cadc0e91-88fd-4594-a0fe-22be9c0b523a",
   "metadata": {},
   "outputs": [
    {
     "name": "stdout",
     "output_type": "stream",
     "text": [
      "Learning AI with New Hope\n"
     ]
    }
   ],
   "source": [
    "print(\"Learning AI with New Hope\")"
   ]
  },
  {
   "cell_type": "code",
   "execution_count": 9,
   "id": "62d68874-534a-4e33-af82-79d4b1199334",
   "metadata": {},
   "outputs": [
    {
     "name": "stdout",
     "output_type": "stream",
     "text": [
      "3232ew@$@$\n"
     ]
    }
   ],
   "source": [
    "print(\"3232ew@$@$\")"
   ]
  },
  {
   "cell_type": "code",
   "execution_count": 85,
   "id": "8bbe1e8e-18ac-455c-a6d6-376419033924",
   "metadata": {},
   "outputs": [
    {
     "ename": "NameError",
     "evalue": "name 'Print' is not defined",
     "output_type": "error",
     "traceback": [
      "\u001b[1;31m---------------------------------------------------------------------------\u001b[0m",
      "\u001b[1;31mNameError\u001b[0m                                 Traceback (most recent call last)",
      "Cell \u001b[1;32mIn[85], line 2\u001b[0m\n\u001b[0;32m      1\u001b[0m \u001b[38;5;66;03m#Name Error - only comes with Spelling mistake and undefined variable name\u001b[39;00m\n\u001b[1;32m----> 2\u001b[0m Print(\u001b[38;5;124m\"\u001b[39m\u001b[38;5;124mhello\u001b[39m\u001b[38;5;124m\"\u001b[39m)\n",
      "\u001b[1;31mNameError\u001b[0m: name 'Print' is not defined"
     ]
    }
   ],
   "source": [
    "#Name Error - only comes with Spelling mistake and undefined variable name\n",
    "Print(\"hello\")"
   ]
  },
  {
   "cell_type": "code",
   "execution_count": 93,
   "id": "b3fa2763-1835-4d8c-828b-ffa0a9154af2",
   "metadata": {},
   "outputs": [
    {
     "ename": "NameError",
     "evalue": "name 'mul' is not defined",
     "output_type": "error",
     "traceback": [
      "\u001b[1;31m---------------------------------------------------------------------------\u001b[0m",
      "\u001b[1;31mNameError\u001b[0m                                 Traceback (most recent call last)",
      "Cell \u001b[1;32mIn[93], line 2\u001b[0m\n\u001b[0;32m      1\u001b[0m \u001b[38;5;66;03m# Undefined variable name - like without initilized the variable name and when we call that name we get Name Error\u001b[39;00m\n\u001b[1;32m----> 2\u001b[0m \u001b[38;5;28mprint\u001b[39m(mul)\n",
      "\u001b[1;31mNameError\u001b[0m: name 'mul' is not defined"
     ]
    }
   ],
   "source": [
    "# Undefined variable name - like without initilized the variable name and when we call that name we get Name Error\n",
    "print(mul)  # not initilized anywhere above and it will not saved on memory "
   ]
  },
  {
   "cell_type": "markdown",
   "id": "7007b2e1-dab7-4023-9599-69489b6fa4ca",
   "metadata": {},
   "source": [
    "### Assignment Operators and Variables :"
   ]
  },
  {
   "cell_type": "code",
   "execution_count": 24,
   "id": "44fc4d0f-57b8-42ab-82e7-9fb1304476ef",
   "metadata": {},
   "outputs": [
    {
     "name": "stdout",
     "output_type": "stream",
     "text": [
      "40\n"
     ]
    }
   ],
   "source": [
    "num1 = 10  # num1 is variable and '=' is assignment operator\n",
    "num2 = 30\n",
    "add = num1 + num2\n",
    "print(add)"
   ]
  },
  {
   "cell_type": "markdown",
   "id": "56fdc8b7-6673-445f-8d21-2438f8139fe0",
   "metadata": {},
   "source": [
    "### Invalid syntax Error - space btw variable name"
   ]
  },
  {
   "cell_type": "code",
   "execution_count": 27,
   "id": "a9f9c851-be3d-4379-8d95-c2811d440a6a",
   "metadata": {},
   "outputs": [
    {
     "ename": "SyntaxError",
     "evalue": "invalid syntax (2554222466.py, line 1)",
     "output_type": "error",
     "traceback": [
      "\u001b[1;36m  Cell \u001b[1;32mIn[27], line 1\u001b[1;36m\u001b[0m\n\u001b[1;33m    first name = \"my name is jai\"\u001b[0m\n\u001b[1;37m          ^\u001b[0m\n\u001b[1;31mSyntaxError\u001b[0m\u001b[1;31m:\u001b[0m invalid syntax\n"
     ]
    }
   ],
   "source": [
    "first name = \"my name is jai\""
   ]
  },
  {
   "cell_type": "code",
   "execution_count": null,
   "id": "d4462e70-9324-479f-af33-26b1b8afb761",
   "metadata": {},
   "outputs": [],
   "source": []
  },
  {
   "cell_type": "code",
   "execution_count": 29,
   "id": "2de6bfb7-3eff-4bb5-b41e-a3c79fea387b",
   "metadata": {},
   "outputs": [],
   "source": [
    "first_name = \"my name is jai\"\n",
    "firstName = \" hello\"\n",
    "FirstName = \" mani\""
   ]
  },
  {
   "cell_type": "code",
   "execution_count": 31,
   "id": "291ec158-6133-47c2-aabe-5a00991b4775",
   "metadata": {},
   "outputs": [
    {
     "name": "stdout",
     "output_type": "stream",
     "text": [
      "my name is jai\n",
      " hello\n",
      " mani\n"
     ]
    }
   ],
   "source": [
    "print(first_name)\n",
    "print(firstName)\n",
    "print(FirstName)"
   ]
  },
  {
   "cell_type": "code",
   "execution_count": null,
   "id": "b5e78e56-b33c-4728-a16f-52ea3f7f620e",
   "metadata": {},
   "outputs": [],
   "source": []
  },
  {
   "cell_type": "markdown",
   "id": "b7b2b488-4325-4399-8a9b-b56330cede5e",
   "metadata": {},
   "source": [
    "### Baby Code: use python code to print the same below lines\n",
    "- The addition of two numbers\n",
    "###The number1: 10\r",
    "   \n",
    "The number2: 20   \r\n",
    "The answer: \n",
    "  30\n",
    " 30"
   ]
  },
  {
   "cell_type": "code",
   "execution_count": 59,
   "id": "7bc342b4-e78d-4a61-a06a-54b6212687e7",
   "metadata": {},
   "outputs": [
    {
     "name": "stdout",
     "output_type": "stream",
     "text": [
      "The addition of two numbers\n",
      "The number1: 10\n",
      "The number2: 20\n",
      "The answer: 30\n"
     ]
    }
   ],
   "source": [
    "print(\"The addition of two numbers\")\n",
    "num1 = 10\n",
    "print(\"The number1:\",num1)\n",
    "num2 = 20\n",
    "print(\"The number2:\",num2)\n",
    "add = num1+num2\n",
    "print(\"The answer:\",add)"
   ]
  },
  {
   "cell_type": "code",
   "execution_count": null,
   "id": "0167d156-7c86-4571-bcff-09ee615953c0",
   "metadata": {},
   "outputs": [],
   "source": []
  },
  {
   "cell_type": "markdown",
   "id": "6e7b517e-7918-47c8-8b56-1531136f10e3",
   "metadata": {},
   "source": [
    "### Input Keyword:"
   ]
  },
  {
   "cell_type": "code",
   "execution_count": 79,
   "id": "52b1420e-efdb-4ea8-8635-6014a4714f90",
   "metadata": {},
   "outputs": [
    {
     "name": "stdin",
     "output_type": "stream",
     "text": [
      "Enter the number one : 20\n"
     ]
    }
   ],
   "source": [
    "num1 = input(\"Enter the number one :\") # By default it will take it as \"String\" = now 20 is string"
   ]
  },
  {
   "cell_type": "code",
   "execution_count": 81,
   "id": "0a4b6caf-4b7f-406b-8522-a343d587875c",
   "metadata": {},
   "outputs": [
    {
     "name": "stdin",
     "output_type": "stream",
     "text": [
      "Enter the nnumber two : 30\n"
     ]
    }
   ],
   "source": [
    "num2 = int(input(\"Enter the nnumber two :\")) # now it will convert string to integer"
   ]
  },
  {
   "cell_type": "code",
   "execution_count": null,
   "id": "2da21497-3bef-4f04-a8be-0bf715284596",
   "metadata": {},
   "outputs": [],
   "source": [
    "num3"
   ]
  },
  {
   "cell_type": "code",
   "execution_count": 83,
   "id": "e95f4409-c797-4227-b2b6-f8184dc31538",
   "metadata": {},
   "outputs": [
    {
     "ename": "TypeError",
     "evalue": "can only concatenate str (not \"int\") to str",
     "output_type": "error",
     "traceback": [
      "\u001b[1;31m---------------------------------------------------------------------------\u001b[0m",
      "\u001b[1;31mTypeError\u001b[0m                                 Traceback (most recent call last)",
      "Cell \u001b[1;32mIn[83], line 1\u001b[0m\n\u001b[1;32m----> 1\u001b[0m add1 \u001b[38;5;241m=\u001b[39m num1 \u001b[38;5;241m+\u001b[39m num2\n\u001b[0;32m      2\u001b[0m \u001b[38;5;28mprint\u001b[39m(add1)\n",
      "\u001b[1;31mTypeError\u001b[0m: can only concatenate str (not \"int\") to str"
     ]
    }
   ],
   "source": [
    "add1 = num1 + num2\n",
    "print(add1)"
   ]
  },
  {
   "cell_type": "code",
   "execution_count": null,
   "id": "7d985654-70e3-41a1-8168-2ff0de5327df",
   "metadata": {},
   "outputs": [],
   "source": []
  },
  {
   "cell_type": "code",
   "execution_count": null,
   "id": "de22f3c8-e23b-4e21-ac61-02734f0c1074",
   "metadata": {},
   "outputs": [],
   "source": []
  },
  {
   "cell_type": "markdown",
   "id": "5af550b9-cd36-448e-84c5-2e08460e8e78",
   "metadata": {},
   "source": [
    "### Control structures: \n",
    "### **IF**"
   ]
  },
  {
   "cell_type": "code",
   "execution_count": 96,
   "id": "f1c2fcce-87b1-4edd-90f5-41aed78cfa20",
   "metadata": {},
   "outputs": [],
   "source": [
    "if():\n",
    "    print()"
   ]
  },
  {
   "cell_type": "markdown",
   "id": "4ac3c4ec-b2ae-4423-8e92-8b20e00d1de9",
   "metadata": {},
   "source": [
    "1.NameError"
   ]
  },
  {
   "cell_type": "code",
   "execution_count": 98,
   "id": "a5f0f560-5d20-4d8a-b606-cdaddefc89b0",
   "metadata": {},
   "outputs": [
    {
     "ename": "NameError",
     "evalue": "name 'age' is not defined",
     "output_type": "error",
     "traceback": [
      "\u001b[1;31m---------------------------------------------------------------------------\u001b[0m",
      "\u001b[1;31mNameError\u001b[0m                                 Traceback (most recent call last)",
      "Cell \u001b[1;32mIn[98], line 1\u001b[0m\n\u001b[1;32m----> 1\u001b[0m \u001b[38;5;28;01mif\u001b[39;00m(age\u001b[38;5;241m==\u001b[39m\u001b[38;5;241m18\u001b[39m):\n\u001b[0;32m      2\u001b[0m     \u001b[38;5;28mprint\u001b[39m(\u001b[38;5;124m\"\u001b[39m\u001b[38;5;124mAdult\u001b[39m\u001b[38;5;124m\"\u001b[39m)\n",
      "\u001b[1;31mNameError\u001b[0m: name 'age' is not defined"
     ]
    }
   ],
   "source": [
    "if(age==18): \n",
    "    print(\"Adult\")"
   ]
  },
  {
   "cell_type": "markdown",
   "id": "75bc0ba4-dd9a-4498-a1a0-aee9ff8be727",
   "metadata": {},
   "source": [
    "2.because above age1 is string - didn't converted to integer"
   ]
  },
  {
   "cell_type": "code",
   "execution_count": 102,
   "id": "0990e817-774c-4286-a853-15fc23f5d013",
   "metadata": {},
   "outputs": [
    {
     "name": "stdin",
     "output_type": "stream",
     "text": [
      "Enter your age 22\n"
     ]
    }
   ],
   "source": [
    "age1 = input(\"Enter your age\")"
   ]
  },
  {
   "cell_type": "code",
   "execution_count": 106,
   "id": "4255fdc3-dd95-4e53-b38a-e2bd984614d1",
   "metadata": {},
   "outputs": [
    {
     "name": "stdout",
     "output_type": "stream",
     "text": [
      "Error\n"
     ]
    }
   ],
   "source": [
    "if(age1==18):\n",
    "    print(\"Adult\")\n",
    "else:\n",
    "    print(\"Error\") # because above age1 is string - didn't converted to integer"
   ]
  },
  {
   "cell_type": "markdown",
   "id": "189a96ba-5988-422a-bbba-9da7df67841e",
   "metadata": {},
   "source": [
    "3.Correct one"
   ]
  },
  {
   "cell_type": "code",
   "execution_count": 117,
   "id": "5be5f12f-a5f1-4d9a-8ca4-328b2ea6b5c9",
   "metadata": {},
   "outputs": [
    {
     "name": "stdin",
     "output_type": "stream",
     "text": [
      "Enter your age 18\n"
     ]
    }
   ],
   "source": [
    "age2 = int(input(\"Enter your age\"))"
   ]
  },
  {
   "cell_type": "code",
   "execution_count": 119,
   "id": "01c722c3-48d4-484e-a01b-61edb7efb5e4",
   "metadata": {},
   "outputs": [
    {
     "name": "stdout",
     "output_type": "stream",
     "text": [
      "Adult\n"
     ]
    }
   ],
   "source": [
    "if(age2==18):\n",
    "    print(\"Adult\")\n",
    "else:\n",
    "    print(\"Error\") # because above age1 is string - didn't converted to integer"
   ]
  },
  {
   "cell_type": "markdown",
   "id": "002d46c9-7b34-4ecf-bbda-69267c34ad97",
   "metadata": {},
   "source": [
    "13. Indentation 'Keywords'"
   ]
  },
  {
   "cell_type": "code",
   "execution_count": 129,
   "id": "14a69728-d0a1-4a35-b860-568f91ebb1e2",
   "metadata": {},
   "outputs": [
    {
     "ename": "NameError",
     "evalue": "name 'condition' is not defined",
     "output_type": "error",
     "traceback": [
      "\u001b[1;31m---------------------------------------------------------------------------\u001b[0m",
      "\u001b[1;31mNameError\u001b[0m                                 Traceback (most recent call last)",
      "Cell \u001b[1;32mIn[129], line 1\u001b[0m\n\u001b[1;32m----> 1\u001b[0m \u001b[38;5;28;01mif\u001b[39;00m(condition):\n\u001b[0;32m      2\u001b[0m     \u001b[38;5;28mprint\u001b[39m()\n\u001b[0;32m      3\u001b[0m \u001b[38;5;28;01melse\u001b[39;00m:\n",
      "\u001b[1;31mNameError\u001b[0m: name 'condition' is not defined"
     ]
    }
   ],
   "source": [
    "if(condition):\n",
    "    print()\n",
    "else:\n",
    "    print()\n",
    "    "
   ]
  },
  {
   "cell_type": "code",
   "execution_count": 131,
   "id": "5aa74191-6c68-45ed-bdb0-38c84800033d",
   "metadata": {},
   "outputs": [
    {
     "name": "stdout",
     "output_type": "stream",
     "text": [
      "1\n",
      "1\n",
      "1\n",
      "1\n",
      "1\n",
      "1\n",
      "1\n",
      "1\n",
      "1\n",
      "1\n",
      "1\n",
      "1\n",
      "1\n",
      "1\n",
      "1\n",
      "1\n",
      "1\n",
      "1\n",
      "1\n"
     ]
    }
   ],
   "source": [
    "for temp in range(1,20):\n",
    "    print(\"1\")"
   ]
  },
  {
   "cell_type": "markdown",
   "id": "201e411f-2749-4618-855d-e9ba712e790c",
   "metadata": {},
   "source": [
    "**14. if-else?** \n",
    "- two condition"
   ]
  },
  {
   "cell_type": "code",
   "execution_count": 160,
   "id": "ea341399-3e3f-4bea-bbed-ae727c1232df",
   "metadata": {},
   "outputs": [
    {
     "name": "stdin",
     "output_type": "stream",
     "text": [
      "Enter your age 45\n"
     ]
    }
   ],
   "source": [
    "# Q: check the age and print it is grater than 18 or not\n",
    "age3 = int(input(\"Enter your age\"))"
   ]
  },
  {
   "cell_type": "code",
   "execution_count": 162,
   "id": "85637896-008d-4a4e-a8e4-3d4404196e72",
   "metadata": {},
   "outputs": [
    {
     "name": "stdout",
     "output_type": "stream",
     "text": [
      "Age is grate than 18 : your age is - 45\n"
     ]
    }
   ],
   "source": [
    "if(age3>=18):\n",
    "    print(\"Age is grate than 18 : your age is -\",age3)\n",
    "\n",
    "else:\n",
    "    print(\"Age is lesser than 18 : your age is - \",age3)"
   ]
  },
  {
   "cell_type": "code",
   "execution_count": 164,
   "id": "9a30884e-92aa-4f27-9554-522eae2824b8",
   "metadata": {},
   "outputs": [
    {
     "name": "stdout",
     "output_type": "stream",
     "text": [
      "Adult\n"
     ]
    }
   ],
   "source": [
    "if(age3<18):\n",
    "    print(\"Children\")\n",
    "\n",
    "else:\n",
    "    print(\"Adult\")"
   ]
  },
  {
   "cell_type": "markdown",
   "id": "874ddd6f-ce7c-4012-8b54-7ca829f64295",
   "metadata": {},
   "source": [
    "<h2> 15: if-elif? \n",
    "- More than 2 condition --> if-elif can be used"
   ]
  },
  {
   "cell_type": "code",
   "execution_count": 167,
   "id": "75448301-727f-4615-97fb-cdeab87bdc1b",
   "metadata": {},
   "outputs": [
    {
     "name": "stdout",
     "output_type": "stream",
     "text": [
      "\n"
     ]
    }
   ],
   "source": [
    "if():\n",
    "    print()\n",
    "elif():\n",
    "    print()\n",
    "elif():\n",
    "    print()\n",
    "else:\n",
    "    print()"
   ]
  },
  {
   "cell_type": "code",
   "execution_count": 173,
   "id": "7cfe6d1c-1fa3-46c5-bd87-23b05d0c80f3",
   "metadata": {},
   "outputs": [
    {
     "name": "stdout",
     "output_type": "stream",
     "text": [
      "Citizen\n"
     ]
    }
   ],
   "source": [
    "#age<18 --child\n",
    "#age<35 --Adult\n",
    "#age<59 --Citizen\n",
    "#age>59 --Senior Citizen\n",
    "if(age3<18):\n",
    "    print(\"Child\")\n",
    "elif(age3<35):\n",
    "    print(\"Adult\")\n",
    "elif(age3<59):\n",
    "    print(\"Citizen\")\n",
    "else:\n",
    "    print(\"Senior Citizen\")"
   ]
  },
  {
   "cell_type": "markdown",
   "id": "669ca47f-7ab2-4c3d-a7cb-a0359269f60f",
   "metadata": {},
   "source": [
    "**17: For Loop**\n",
    "* To check the multiple conditions"
   ]
  },
  {
   "cell_type": "code",
   "execution_count": 183,
   "id": "c0f4ee80-963b-45e1-95a9-d07ad4c5a3a8",
   "metadata": {},
   "outputs": [],
   "source": [
    "lists = [22,62,18,34,15]"
   ]
  },
  {
   "cell_type": "code",
   "execution_count": 185,
   "id": "d04df109-6ee4-4e03-9d87-5e64c031f269",
   "metadata": {},
   "outputs": [
    {
     "name": "stdout",
     "output_type": "stream",
     "text": [
      "22\n",
      "62\n",
      "18\n",
      "34\n",
      "15\n"
     ]
    }
   ],
   "source": [
    "for temp in lists:\n",
    "    print(temp)"
   ]
  },
  {
   "cell_type": "code",
   "execution_count": 194,
   "id": "002b1d7b-0747-4725-96e5-4cf4aa81846e",
   "metadata": {},
   "outputs": [
    {
     "name": "stdout",
     "output_type": "stream",
     "text": [
      "Adult\n",
      "Senior Citizen\n",
      "Adult\n",
      "Adult\n",
      "Child\n"
     ]
    }
   ],
   "source": [
    "for age in lists:\n",
    "    if(age<18):\n",
    "        print(\"Child\")\n",
    "    elif(age<35):\n",
    "        print(\"Adult\")\n",
    "    elif(age<59):\n",
    "        print(\"Citizen\")\n",
    "    else:\n",
    "        print(\"Senior Citizen\")"
   ]
  },
  {
   "cell_type": "markdown",
   "id": "5dc828f2-3ee6-4a16-8f43-3af0a85d5d87",
   "metadata": {},
   "source": [
    "**18. How to write Logic?**"
   ]
  },
  {
   "cell_type": "code",
   "execution_count": 200,
   "id": "f6a589ce-7ae6-45f7-a261-cefd47856df8",
   "metadata": {},
   "outputs": [
    {
     "name": "stdout",
     "output_type": "stream",
     "text": [
      "Even Number\n",
      "Even Number\n",
      "Even Number\n",
      "Even Number\n",
      "ODD Number\n"
     ]
    }
   ],
   "source": [
    "# Find ODD or EVEN numbers:\n",
    "for x in lists:\n",
    "    if(x%2==0):\n",
    "        print(\"Even Number\")\n",
    "    else:\n",
    "        print(\"ODD Number\")"
   ]
  },
  {
   "cell_type": "code",
   "execution_count": 207,
   "id": "f8cb09aa-888f-45a6-a11b-a1ca0407e5f0",
   "metadata": {},
   "outputs": [
    {
     "name": "stdin",
     "output_type": "stream",
     "text": [
      "Enter the number 9587432\n"
     ]
    },
    {
     "name": "stdout",
     "output_type": "stream",
     "text": [
      "Even Number\n"
     ]
    }
   ],
   "source": [
    "num5 = int(input(\"Enter the number\"))\n",
    "if(num5%2==0):\n",
    "    print(\"Even Number\")\n",
    "else:\n",
    "    print(\"ODD Number\")"
   ]
  },
  {
   "cell_type": "code",
   "execution_count": 209,
   "id": "83e120e8-6421-43c5-97ff-7fc862aa950d",
   "metadata": {},
   "outputs": [
    {
     "name": "stdin",
     "output_type": "stream",
     "text": [
      "Enter the number 13\n"
     ]
    },
    {
     "name": "stdout",
     "output_type": "stream",
     "text": [
      "ODD Number\n"
     ]
    }
   ],
   "source": [
    "num5 = int(input(\"Enter the number\"))\n",
    "if(num5%2==1):\n",
    "    print(\"ODD Number\")    \n",
    "else:\n",
    "    print(\"Even Number\")\n",
    "   "
   ]
  },
  {
   "cell_type": "markdown",
   "id": "64924ddc-6737-4df0-9f34-8768a90855df",
   "metadata": {},
   "source": [
    "**19. Range**"
   ]
  },
  {
   "cell_type": "code",
   "execution_count": 216,
   "id": "9855056d-a80f-42b9-91c7-454a68153cc5",
   "metadata": {},
   "outputs": [
    {
     "name": "stdout",
     "output_type": "stream",
     "text": [
      "0\n",
      "1\n",
      "2\n",
      "3\n",
      "4\n",
      "5\n",
      "6\n",
      "7\n",
      "8\n",
      "9\n"
     ]
    }
   ],
   "source": [
    "for temp in range(0,10):\n",
    "    print(temp)"
   ]
  },
  {
   "cell_type": "code",
   "execution_count": 218,
   "id": "ba6ed92a-8618-4ca3-824e-0cb7b200cbaf",
   "metadata": {},
   "outputs": [
    {
     "name": "stdout",
     "output_type": "stream",
     "text": [
      "0\n",
      "3\n",
      "6\n",
      "9\n"
     ]
    }
   ],
   "source": [
    "for temp in range(0,10,3):\n",
    "    print(temp)"
   ]
  },
  {
   "cell_type": "code",
   "execution_count": null,
   "id": "bca454ea-1e59-4092-9e45-eaecd74df2ab",
   "metadata": {},
   "outputs": [],
   "source": []
  },
  {
   "cell_type": "code",
   "execution_count": null,
   "id": "020b339d-e40c-4c90-bc3b-3f5f42f03642",
   "metadata": {},
   "outputs": [],
   "source": []
  },
  {
   "cell_type": "code",
   "execution_count": null,
   "id": "c59ac4a6-521e-4bef-ab54-49a336cd4baa",
   "metadata": {},
   "outputs": [],
   "source": []
  },
  {
   "cell_type": "code",
   "execution_count": null,
   "id": "b9819bbb-a142-4e14-8a29-45fd8c61a654",
   "metadata": {},
   "outputs": [],
   "source": []
  }
 ],
 "metadata": {
  "kernelspec": {
   "display_name": "Python 3 (ipykernel)",
   "language": "python",
   "name": "python3"
  },
  "language_info": {
   "codemirror_mode": {
    "name": "ipython",
    "version": 3
   },
   "file_extension": ".py",
   "mimetype": "text/x-python",
   "name": "python",
   "nbconvert_exporter": "python",
   "pygments_lexer": "ipython3",
   "version": "3.12.4"
  }
 },
 "nbformat": 4,
 "nbformat_minor": 5
}
