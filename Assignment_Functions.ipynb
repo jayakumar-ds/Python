{
 "cells": [
  {
   "cell_type": "code",
   "execution_count": 1,
   "id": "6a5787d2-d742-472d-bdbe-649d335d8e50",
   "metadata": {},
   "outputs": [],
   "source": [
    "# Create a Class and Function, and list out the items in the list"
   ]
  },
  {
   "cell_type": "code",
   "execution_count": 63,
   "id": "a26a0ce3-94ac-44fd-858a-2168d91b2cec",
   "metadata": {},
   "outputs": [],
   "source": [
    "lists = ['Machine Learning','Neural Networks','Vision','Robotics','Speech Processing','Natural Language Processing']\n",
    "def subfields():\n",
    "    print(\"Sub-fields in AI are: \")\n",
    "    for msg in lists:        \n",
    "        print(msg)"
   ]
  },
  {
   "cell_type": "code",
   "execution_count": 69,
   "id": "b1a2ad53-2bc0-4fe1-a263-33f9957fa86e",
   "metadata": {},
   "outputs": [
    {
     "name": "stdout",
     "output_type": "stream",
     "text": [
      "Sub-fields in AI are: \n",
      "Machine Learning\n",
      "Neural Networks\n",
      "Vision\n",
      "Robotics\n",
      "Speech Processing\n",
      "Natural Language Processing\n"
     ]
    }
   ],
   "source": [
    "subfields()"
   ]
  },
  {
   "cell_type": "code",
   "execution_count": 79,
   "id": "ae294c24-f76a-4c6a-8fa2-12b1d970dce7",
   "metadata": {},
   "outputs": [],
   "source": [
    "#Another concept by getting input from user:\n",
    "def Subfields1():\n",
    "    lists = input(\"Sub-fields in AI are: \").split(\",\")\n",
    "    for msg in lists:\n",
    "        print(msg.strip())"
   ]
  },
  {
   "cell_type": "code",
   "execution_count": 81,
   "id": "a7231da8-2a34-474e-8e94-826917d14c5d",
   "metadata": {},
   "outputs": [
    {
     "name": "stdin",
     "output_type": "stream",
     "text": [
      "Sub-fields in AI are:  'NLP','ML','DL','Vision'\n"
     ]
    },
    {
     "name": "stdout",
     "output_type": "stream",
     "text": [
      "'NLP'\n",
      "'ML'\n",
      "'DL'\n",
      "'Vision'\n"
     ]
    }
   ],
   "source": [
    "result = Subfields()"
   ]
  },
  {
   "cell_type": "code",
   "execution_count": 100,
   "id": "faa09e95-2200-4147-a44e-28739128acc9",
   "metadata": {},
   "outputs": [],
   "source": [
    "2.# Find Odd or Even Number using Functions:\n",
    "\n",
    "def oddEven():\n",
    "    num5 = int(input(\"Enter the number : \"))\n",
    "    if(num5%2==0):\n",
    "        print(num5, \"is Even Number\")\n",
    "    else:\n",
    "        print(num5, \"is Odd Number\")\n",
    "    "
   ]
  },
  {
   "cell_type": "code",
   "execution_count": 102,
   "id": "112a3cca-1941-4e93-a740-5ae703092ea1",
   "metadata": {},
   "outputs": [
    {
     "name": "stdin",
     "output_type": "stream",
     "text": [
      "Enter the number :  52452\n"
     ]
    },
    {
     "name": "stdout",
     "output_type": "stream",
     "text": [
      "52452 is Even Number\n"
     ]
    }
   ],
   "source": [
    "oddEven()"
   ]
  },
  {
   "cell_type": "markdown",
   "id": "8234f639-6f66-40f8-bca8-3e2b5fb11802",
   "metadata": {},
   "source": [
    "**Create a function that tells elegibility of marriage for male and female according to their age limit like 21 for male and 18 for female**\n"
   ]
  },
  {
   "cell_type": "code",
   "execution_count": 164,
   "id": "6b4a0c86-e258-4a49-a785-f79d07bf38f3",
   "metadata": {},
   "outputs": [],
   "source": [
    "# 1.First solution\n",
    "def eligible():\n",
    "    gender = input(\"Your Gender :\")\n",
    "    age = int(input(\"Your Age :\"))\n",
    "    if(gender=='male' and age>=21):\n",
    "        msg = 'Your ELIGIBLE'\n",
    "    elif(gender=='female' and age>=18):\n",
    "        msg = 'Your ELIGIBLE'\n",
    "    else:\n",
    "        msg = 'NOT ELIGIBLE'\n",
    "    return msg"
   ]
  },
  {
   "cell_type": "code",
   "execution_count": 166,
   "id": "1db0978c-39e9-45e6-92b4-0294bdd02b1c",
   "metadata": {},
   "outputs": [
    {
     "name": "stdin",
     "output_type": "stream",
     "text": [
      "Your Gender : male\n",
      "Your Age : 20\n"
     ]
    },
    {
     "data": {
      "text/plain": [
       "'NOT ELIGIBLE'"
      ]
     },
     "execution_count": 166,
     "metadata": {},
     "output_type": "execute_result"
    }
   ],
   "source": [
    "eligible()"
   ]
  },
  {
   "cell_type": "markdown",
   "id": "bc77c80c-8479-4a43-9951-1238eb08eb7f",
   "metadata": {},
   "source": [
    "**# calculate the percentage of your 10th mark**    "
   ]
  },
  {
   "cell_type": "code",
   "execution_count": 170,
   "id": "39a9b3da-be6e-4dab-8636-c7e6fdeeaa77",
   "metadata": {},
   "outputs": [],
   "source": [
    "def find_Total_percentage(s1,s2,s3,s4,s5):\n",
    "    total = s1+s2+s3+s4+s5\n",
    "    percentage = total/500*100\n",
    "\n",
    "    print(\"subject1= \",s1)\n",
    "    print(\"subject2= \",s2)\n",
    "    print(\"subject3= \",s3)\n",
    "    print(\"subject4= \",s4)\n",
    "    print(\"subject5= \",s5)\n",
    "\n",
    "    print(\"Total : \",total)\n",
    "    print(\"Percentage : \",percentage)"
   ]
  },
  {
   "cell_type": "code",
   "execution_count": 172,
   "id": "6b3468c8-ce90-4a61-a305-6f9336ff1d57",
   "metadata": {},
   "outputs": [
    {
     "name": "stdout",
     "output_type": "stream",
     "text": [
      "subject1=  98\n",
      "subject2=  87\n",
      "subject3=  95\n",
      "subject4=  95\n",
      "subject5=  93\n",
      "Total :  468\n",
      "Percentage :  93.60000000000001\n"
     ]
    }
   ],
   "source": [
    "find_Total_percentage(98,87,95,95,93)"
   ]
  },
  {
   "cell_type": "markdown",
   "id": "5c22f0d1-6a61-4b4d-928e-7f082b11e152",
   "metadata": {},
   "source": [
    "**print area and perimeter of triangle using class and functions**"
   ]
  },
  {
   "cell_type": "code",
   "execution_count": 182,
   "id": "cd0d58fb-6f92-4be3-8416-86b909536e12",
   "metadata": {},
   "outputs": [],
   "source": [
    "def triangle(h1,h2,bh):\n",
    "    height=int(input(\"Height :\"))\n",
    "    weight=int(input(\"Weight :\"))\n",
    "    af = (height*weight)/2\n",
    "    print(\"Area of Triangle: \",af)\n",
    "    pf = h1+h2+bh\n",
    "    print(\"Height1:\",h1)\n",
    "    print(\"Height2:\",h2)\n",
    "    print(\"Breadth:\",bh)\n",
    "    print(\"Perimeter of Traingle: \",pf)"
   ]
  },
  {
   "cell_type": "code",
   "execution_count": 184,
   "id": "68d84289-a5be-4d4a-8864-6620693f2ecf",
   "metadata": {},
   "outputs": [
    {
     "name": "stdin",
     "output_type": "stream",
     "text": [
      "Height : 32\n",
      "Weight : 34\n"
     ]
    },
    {
     "name": "stdout",
     "output_type": "stream",
     "text": [
      "Area of Triangle:  544.0\n",
      "Height1: 2\n",
      "Height2: 4\n",
      "Breadth: 4\n",
      "Perimeter of Traingle:  10\n"
     ]
    }
   ],
   "source": [
    "triangle(2,4,4)"
   ]
  },
  {
   "cell_type": "code",
   "execution_count": null,
   "id": "70b7fdf2-8991-4c9e-873c-cdaa08cc9dc8",
   "metadata": {},
   "outputs": [],
   "source": []
  },
  {
   "cell_type": "code",
   "execution_count": null,
   "id": "0a2d9297-61b5-4cdc-926b-d911297d2087",
   "metadata": {},
   "outputs": [],
   "source": []
  },
  {
   "cell_type": "code",
   "execution_count": null,
   "id": "80620feb-0d49-4f3e-8747-739fdb394beb",
   "metadata": {},
   "outputs": [],
   "source": []
  },
  {
   "cell_type": "code",
   "execution_count": null,
   "id": "fe611e51-2931-4158-90ea-5b167b316c22",
   "metadata": {},
   "outputs": [],
   "source": []
  },
  {
   "cell_type": "code",
   "execution_count": null,
   "id": "a4fba4c3-c261-490d-8789-c60b07bc2cfd",
   "metadata": {},
   "outputs": [],
   "source": []
  },
  {
   "cell_type": "code",
   "execution_count": null,
   "id": "0256f244-21c6-40eb-a3c8-32f45e3463ed",
   "metadata": {},
   "outputs": [],
   "source": []
  },
  {
   "cell_type": "code",
   "execution_count": null,
   "id": "e4909be3-295a-4151-9845-08442178ce52",
   "metadata": {},
   "outputs": [],
   "source": []
  },
  {
   "cell_type": "code",
   "execution_count": null,
   "id": "8489add0-ca5b-4716-a435-c6f96a08534c",
   "metadata": {},
   "outputs": [],
   "source": []
  },
  {
   "cell_type": "code",
   "execution_count": null,
   "id": "a1ba5bed-9f04-4778-a663-2b82271079cc",
   "metadata": {},
   "outputs": [],
   "source": []
  },
  {
   "cell_type": "code",
   "execution_count": null,
   "id": "6031103e-5199-44b2-b860-93e4f9e2ff21",
   "metadata": {},
   "outputs": [],
   "source": []
  },
  {
   "cell_type": "code",
   "execution_count": null,
   "id": "afcade1c-3f9f-4436-af6b-808008d88279",
   "metadata": {},
   "outputs": [],
   "source": []
  },
  {
   "cell_type": "code",
   "execution_count": null,
   "id": "5eb8604d-3e8a-4c43-81f4-2436beb820df",
   "metadata": {},
   "outputs": [],
   "source": []
  },
  {
   "cell_type": "code",
   "execution_count": null,
   "id": "3c1a54f9-baab-40b0-be75-892126d38d8d",
   "metadata": {},
   "outputs": [],
   "source": []
  },
  {
   "cell_type": "code",
   "execution_count": null,
   "id": "205a6c2d-86bf-48a8-8f96-f430b1962c10",
   "metadata": {},
   "outputs": [],
   "source": []
  },
  {
   "cell_type": "code",
   "execution_count": null,
   "id": "c01c0dbf-933c-4eda-a5ec-8da01a390a5c",
   "metadata": {},
   "outputs": [],
   "source": []
  },
  {
   "cell_type": "code",
   "execution_count": null,
   "id": "56e5d49b-3825-4224-841f-9810515dd164",
   "metadata": {},
   "outputs": [],
   "source": []
  },
  {
   "cell_type": "code",
   "execution_count": null,
   "id": "cae6b560-b726-4bc8-a847-25245d11eacc",
   "metadata": {},
   "outputs": [],
   "source": []
  },
  {
   "cell_type": "code",
   "execution_count": null,
   "id": "8f70befa-b8ba-4c25-8e14-a49d8f5d245c",
   "metadata": {},
   "outputs": [],
   "source": []
  },
  {
   "cell_type": "code",
   "execution_count": null,
   "id": "12734fc9-7f59-4f4a-9f16-cc1485c59823",
   "metadata": {},
   "outputs": [],
   "source": []
  },
  {
   "cell_type": "code",
   "execution_count": null,
   "id": "89240e39-43fc-4b71-a49f-222e0e18fbe5",
   "metadata": {},
   "outputs": [],
   "source": []
  },
  {
   "cell_type": "code",
   "execution_count": null,
   "id": "b6c46f11-0ab3-416f-b302-fe0f97a59074",
   "metadata": {},
   "outputs": [],
   "source": []
  },
  {
   "cell_type": "code",
   "execution_count": null,
   "id": "d3531574-485d-4163-9697-f5f9c61e7d69",
   "metadata": {},
   "outputs": [],
   "source": []
  },
  {
   "cell_type": "code",
   "execution_count": null,
   "id": "29a98163-62ec-472f-aee9-8684084a52f1",
   "metadata": {},
   "outputs": [],
   "source": []
  },
  {
   "cell_type": "code",
   "execution_count": null,
   "id": "d3c2b6a7-8e16-4762-af48-29e5a0f5abdb",
   "metadata": {},
   "outputs": [],
   "source": []
  },
  {
   "cell_type": "code",
   "execution_count": null,
   "id": "47b520db-cdb8-4225-af9f-5b3a0afee2ef",
   "metadata": {},
   "outputs": [],
   "source": []
  }
 ],
 "metadata": {
  "kernelspec": {
   "display_name": "Python 3 (ipykernel)",
   "language": "python",
   "name": "python3"
  },
  "language_info": {
   "codemirror_mode": {
    "name": "ipython",
    "version": 3
   },
   "file_extension": ".py",
   "mimetype": "text/x-python",
   "name": "python",
   "nbconvert_exporter": "python",
   "pygments_lexer": "ipython3",
   "version": "3.12.4"
  }
 },
 "nbformat": 4,
 "nbformat_minor": 5
}
