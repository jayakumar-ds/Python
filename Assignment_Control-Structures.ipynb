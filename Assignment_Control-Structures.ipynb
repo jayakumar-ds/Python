{
 "cells": [
  {
   "cell_type": "markdown",
   "id": "12d44f45-2aa7-40cd-b5b4-767cb7e20f18",
   "metadata": {},
   "source": [
    "## Assignment - 1 - Control Structures:"
   ]
  },
  {
   "cell_type": "code",
   "execution_count": 2,
   "id": "6fca16de-849e-4f69-87d0-cf580ce53bf0",
   "metadata": {},
   "outputs": [
    {
     "name": "stdout",
     "output_type": "stream",
     "text": [
      "Welcome to Assignment-1\n"
     ]
    }
   ],
   "source": [
    "# Welcome to Assignment-1\n",
    "\n",
    "print(\"Welcome to Assignment-1\")"
   ]
  },
  {
   "cell_type": "markdown",
   "id": "4713401f-2d8e-4fd3-bf4a-de205485ac31",
   "metadata": {},
   "source": [
    "#2.Question\n",
    "- Num1= 10\n",
    "- Num2= 30\n",
    "- Add= 40"
   ]
  },
  {
   "cell_type": "code",
   "execution_count": 18,
   "id": "8af1aaab-3ace-40fb-ad2e-8e5ee296600a",
   "metadata": {},
   "outputs": [
    {
     "name": "stdout",
     "output_type": "stream",
     "text": [
      "Num1= 10\n",
      "Num2= 30\n",
      "Add= 40\n"
     ]
    }
   ],
   "source": [
    "Num1= 10\n",
    "Num2= 30\n",
    "print(\"Num1=\",Num1)\n",
    "print(\"Num2=\",Num2)\n",
    "Add = Num1 + Num2\n",
    "print(\"Add=\",Add)"
   ]
  },
  {
   "cell_type": "code",
   "execution_count": null,
   "id": "5260d682-d468-4589-98bc-cce50bfb7b18",
   "metadata": {},
   "outputs": [],
   "source": [
    "#Body Mass Index:"
   ]
  },
  {
   "cell_type": "code",
   "execution_count": 28,
   "id": "816f84aa-ced2-41be-8388-8acad59e7781",
   "metadata": {},
   "outputs": [
    {
     "name": "stdin",
     "output_type": "stream",
     "text": [
      "Enter the BMI Index: 30\n"
     ]
    },
    {
     "name": "stdout",
     "output_type": "stream",
     "text": [
      "Obesity\n"
     ]
    }
   ],
   "source": [
    "BMI = float(input(\"Enter the BMI Index:\"))\n",
    "if(BMI<=18.5):\n",
    "    print(\"Underweight\")\n",
    "elif(BMI<=24.9):\n",
    "    print(\"Normal\")\n",
    "elif(BMI<=29.9):\n",
    "    print(\"OverWeight\")\n",
    "else:\n",
    "    print(\"Obesity\")"
   ]
  },
  {
   "cell_type": "code",
   "execution_count": null,
   "id": "83037285-3fcb-4310-8e5a-8a451a5ab50b",
   "metadata": {},
   "outputs": [],
   "source": []
  },
  {
   "cell_type": "markdown",
   "id": "3bcd7adb-fd72-4ded-ac80-16c20aa47eea",
   "metadata": {},
   "source": [
    "### Extra Assignment -2- level 2 - Python"
   ]
  },
  {
   "cell_type": "code",
   "execution_count": 31,
   "id": "845d741b-e93e-4c55-b21e-281d2441a364",
   "metadata": {},
   "outputs": [
    {
     "name": "stdout",
     "output_type": "stream",
     "text": [
      "0\n",
      "1\n",
      "2\n",
      "3\n",
      "4\n",
      "5\n",
      "6\n",
      "7\n",
      "8\n",
      "9\n",
      "10\n",
      "11\n",
      "12\n",
      "13\n",
      "14\n",
      "15\n",
      "16\n",
      "17\n",
      "18\n",
      "19\n"
     ]
    }
   ],
   "source": [
    "for x in range(0,20):\n",
    "    print(x)"
   ]
  },
  {
   "cell_type": "code",
   "execution_count": 33,
   "id": "7a27412a-b32a-43f8-b340-4add34d4c503",
   "metadata": {},
   "outputs": [
    {
     "name": "stdout",
     "output_type": "stream",
     "text": [
      "10\n",
      "11\n",
      "12\n",
      "13\n",
      "14\n",
      "15\n",
      "16\n",
      "17\n",
      "18\n",
      "19\n"
     ]
    }
   ],
   "source": [
    "# Print the range 10 to 20\n",
    "\n",
    "for y in range(10,20):\n",
    "    print(y)"
   ]
  },
  {
   "cell_type": "code",
   "execution_count": 45,
   "id": "2f91559b-f258-4115-8c03-1b6c3d812a97",
   "metadata": {},
   "outputs": [
    {
     "name": "stdout",
     "output_type": "stream",
     "text": [
      "[10, 20, 14, 55, 43, 87, 76]\n",
      "Number of item in the list2: 7\n"
     ]
    }
   ],
   "source": [
    "# 3. question\n",
    "list2 = [10,20,14,55,43,87,76]\n",
    "print(list2)\n",
    "print(\"Number of item in the list2:\",len(list2))"
   ]
  },
  {
   "cell_type": "code",
   "execution_count": 69,
   "id": "0bd845f0-fdd5-49ef-8f91-2f525bedebbf",
   "metadata": {},
   "outputs": [
    {
     "name": "stdout",
     "output_type": "stream",
     "text": [
      "Artificial Inteligence\n",
      "A\n",
      "r\n",
      "t\n",
      "i\n",
      "f\n",
      "i\n",
      "c\n",
      "i\n",
      "a\n",
      "l\n",
      " \n",
      "I\n",
      "n\n",
      "t\n",
      "e\n",
      "l\n",
      "i\n",
      "g\n",
      "e\n",
      "n\n",
      "c\n",
      "e\n"
     ]
    }
   ],
   "source": [
    "# 4. question - Artificial Inteligence\n",
    "ai = \"Artificial Inteligence\"\n",
    "print(ai)\n",
    "for char in ai:\n",
    "    print(char)"
   ]
  },
  {
   "cell_type": "code",
   "execution_count": 71,
   "id": "47a08583-8608-4c10-acf3-2f986e6ad163",
   "metadata": {},
   "outputs": [
    {
     "name": "stdout",
     "output_type": "stream",
     "text": [
      "-Your Name-\n",
      "-Your Age-\n",
      "-Your Profession-\n"
     ]
    }
   ],
   "source": [
    "# 5.Question - \n",
    "print(\"-Your Name-\")\n",
    "print(\"-Your Age-\")\n",
    "print(\"-Your Profession-\")"
   ]
  },
  {
   "cell_type": "code",
   "execution_count": 83,
   "id": "d3abeff3-5f7c-4371-ab85-a853ff2f9eb0",
   "metadata": {},
   "outputs": [
    {
     "name": "stdout",
     "output_type": "stream",
     "text": [
      "(5, 'Welcome', 7, 'Hope')\n",
      "((0, 1, 2, 3), ('python', 'Hope'))\n"
     ]
    }
   ],
   "source": [
    "#6.Question:\n",
    "\n",
    "# Creating a Tuple with Mixed Datatype\n",
    "tup = (5, 'Welcome', 7, 'Hope')\n",
    "print(tup)\n",
    "\n",
    "# Creating a Tuple with nested tuples\n",
    "tup1 = (0, 1, 2, 3)\n",
    "tup2 = ('python', 'Hope')\n",
    "tup3 = (tup1, tup2)\n",
    "print(tup3)"
   ]
  },
  {
   "cell_type": "code",
   "execution_count": null,
   "id": "1190b807-e2c0-492b-947c-73b1cd433434",
   "metadata": {},
   "outputs": [],
   "source": [
    "# 7.Question\n",
    "# Print the odd number in the list\n",
    "# (20,10,16,19,25,1,276,188)"
   ]
  },
  {
   "cell_type": "code",
   "execution_count": 85,
   "id": "8df96b06-66ff-49f1-80e5-432c244d5c16",
   "metadata": {},
   "outputs": [
    {
     "name": "stdout",
     "output_type": "stream",
     "text": [
      "19  is odd\n",
      "25  is odd\n",
      "1  is odd\n"
     ]
    }
   ],
   "source": [
    "list3 = [20,10,16,19,25,1,276,188]\n",
    "for odd in list3:\n",
    "    if(odd%2==1):\n",
    "        print(odd,\" is odd\")"
   ]
  },
  {
   "cell_type": "code",
   "execution_count": null,
   "id": "8df1b568-4a22-4e4e-a34b-1a53e28d74a8",
   "metadata": {},
   "outputs": [],
   "source": [
    "# 7.Question\n",
    "# Print the Even number in the list\n",
    "# 20,10,16,19,25,1,276,188)"
   ]
  },
  {
   "cell_type": "code",
   "execution_count": 87,
   "id": "9cfdcf30-cc41-43f3-a9e4-527e413d2c2a",
   "metadata": {},
   "outputs": [
    {
     "name": "stdout",
     "output_type": "stream",
     "text": [
      "20  is Even\n",
      "10  is Even\n",
      "16  is Even\n",
      "276  is Even\n",
      "188  is Even\n"
     ]
    }
   ],
   "source": [
    "list3 = [20,10,16,19,25,1,276,188]\n",
    "for even in list3:\n",
    "    if(even%2==0):\n",
    "        print(even,\" is Even\")"
   ]
  },
  {
   "cell_type": "markdown",
   "id": "ce1f2d73-753c-4c9d-b6df-3acc0d3fe63f",
   "metadata": {},
   "source": [
    "### Extra Assignment -3- level 3 - Python"
   ]
  },
  {
   "cell_type": "code",
   "execution_count": 93,
   "id": "8057d297-8c53-409b-95d0-a8f023613b33",
   "metadata": {},
   "outputs": [
    {
     "name": "stdin",
     "output_type": "stream",
     "text": [
      "Value:  10\n"
     ]
    },
    {
     "name": "stdout",
     "output_type": "stream",
     "text": [
      "CORRECT\n"
     ]
    }
   ],
   "source": [
    "# print 'CORRECT' if i==10\n",
    "value = int(input('Value: '))\n",
    "if(value==10):\n",
    "    print(\"CORRECT\")"
   ]
  },
  {
   "cell_type": "code",
   "execution_count": 97,
   "id": "c5cb0e81-6e52-440e-8e8e-bbe51f546a4e",
   "metadata": {},
   "outputs": [
    {
     "name": "stdin",
     "output_type": "stream",
     "text": [
      "Enter the password:  HOPE@123\n"
     ]
    },
    {
     "name": "stdout",
     "output_type": "stream",
     "text": [
      "Your password is correct\n"
     ]
    }
   ],
   "source": [
    "# Check the password, using if and else\n",
    "password = input('Enter the password: ')\n",
    "if(password==\"HOPE@123\"):\n",
    "    print(\"Your password is correct\")"
   ]
  },
  {
   "cell_type": "code",
   "execution_count": 105,
   "id": "43e97099-7cac-42f2-b39a-493b997197f6",
   "metadata": {},
   "outputs": [
    {
     "name": "stdin",
     "output_type": "stream",
     "text": [
      "Value:  20\n"
     ]
    },
    {
     "name": "stdout",
     "output_type": "stream",
     "text": [
      "Adult\n"
     ]
    }
   ],
   "source": [
    "# Catagory the ppl by their age like child,adult,citizen,senior citizen...\n",
    "age = int(input('Value: '))\n",
    "if(age<18):\n",
    "    print(\"Child\")\n",
    "elif(age<35):\n",
    "    print(\"Adult\")\n",
    "elif(age<59):\n",
    "    print(\"Citizen\")\n",
    "else:\n",
    "    print(\"Senior Citizen\")"
   ]
  },
  {
   "cell_type": "code",
   "execution_count": 109,
   "id": "93f7e35d-39f1-4f1f-be99-e33f1f5cfcab",
   "metadata": {},
   "outputs": [
    {
     "name": "stdin",
     "output_type": "stream",
     "text": [
      "Enter any number:  2\n"
     ]
    },
    {
     "name": "stdout",
     "output_type": "stream",
     "text": [
      "Num is Positive\n"
     ]
    }
   ],
   "source": [
    "# Find whether given number is positive or negative\n",
    "Num = int(input('Enter any number: '))\n",
    "if(Num>0):\n",
    "    print(\"Num is Positive\")"
   ]
  },
  {
   "cell_type": "code",
   "execution_count": 117,
   "id": "81e9ed4a-4add-45b9-a771-8a887d22ffcd",
   "metadata": {},
   "outputs": [
    {
     "name": "stdin",
     "output_type": "stream",
     "text": [
      "Enter a number to check:  22\n"
     ]
    },
    {
     "name": "stdout",
     "output_type": "stream",
     "text": [
      "No is not divisible by 5\n"
     ]
    }
   ],
   "source": [
    "# check whether given number is divisible by 5\n",
    "Num1 = int(input('Enter a number to check: '))\n",
    "if(Num1%5==0):\n",
    "    print(\"Yes, number is divisible by 5\")\n",
    "else:\n",
    "    print(\"No is not divisible by 5\")"
   ]
  },
  {
   "cell_type": "code",
   "execution_count": null,
   "id": "527387ee-48e3-4595-8398-7e0494899a5a",
   "metadata": {},
   "outputs": [],
   "source": []
  },
  {
   "cell_type": "code",
   "execution_count": null,
   "id": "f6a87249-48f7-497d-a2cc-224a19434e7c",
   "metadata": {},
   "outputs": [],
   "source": []
  }
 ],
 "metadata": {
  "kernelspec": {
   "display_name": "Python 3 (ipykernel)",
   "language": "python",
   "name": "python3"
  },
  "language_info": {
   "codemirror_mode": {
    "name": "ipython",
    "version": 3
   },
   "file_extension": ".py",
   "mimetype": "text/x-python",
   "name": "python",
   "nbconvert_exporter": "python",
   "pygments_lexer": "ipython3",
   "version": "3.12.4"
  }
 },
 "nbformat": 4,
 "nbformat_minor": 5
}
